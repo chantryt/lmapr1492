{
 "cells": [
  {
   "cell_type": "code",
   "execution_count": 1,
   "metadata": {},
   "outputs": [],
   "source": [
    "from pymatgen.ext.matproj import MPRester\n",
    "import numpy as np\n",
    "from pymatgen.core.lattice import Lattice\n",
    "from pymatgen.symmetry.analyzer import SpacegroupAnalyzer\n",
    "from pymatgen.io.cif import CifWriter\n",
    "from pprint import pprint\n",
    "from pymatgen.core.operations import SymmOp\n",
    "from IPython.display import Markdown,display\n",
    "\n",
    "with MPRester(\"BmFlV0IoLySTXxcf\") as m:\n",
    "    \n",
    "    #données du matériaux\n",
    "    structure = m.get_structure_by_material_id(\"mp-672285\")\n",
    "    \n",
    "    #téléchargement du fichier cif\n",
    "    w = CifWriter(structure)\n",
    "    w.write_file('mp-672285(2).cif')\n",
    "\n",
    "    #rotation d'ordre 3\n",
    "    r = SymmOp.from_xyz_string('-y,x-y,z')\n",
    "    r2 = r.rotation_matrix\n",
    "    \n",
    "    #plan miroir\n",
    "    m = SymmOp.from_xyz_string('x,x-y,z')\n",
    "    m2 = m.rotation_matrix\n",
    "    \n",
    "    #translation\n",
    "    t = SymmOp.from_xyz_string('x+0.33,y-0.33,z-0.33')\n",
    "    t2 = t.rotation_matrix\n",
    "    "
   ]
  },
  {
   "cell_type": "code",
   "execution_count": 9,
   "metadata": {},
   "outputs": [
    {
     "name": "stdout",
     "output_type": "stream",
     "text": [
      "la matrice de rotation est donnée par\n",
      "[[ 0. -1.  0.]\n",
      " [ 1. -1.  0.]\n",
      " [ 0.  0.  1.]]\n",
      "on va déplacer un atome de carbone de (1,0,0.19) vers (0,1,0.19)\n"
     ]
    }
   ],
   "source": [
    "print('la matrice de rotation est donnée par')\n",
    "print(r2)\n",
    "print('on va déplacer un atome de Carbone de (1,0,0.19) vers (0,1,0.19)')"
   ]
  },
  {
   "cell_type": "markdown",
   "metadata": {},
   "source": [
    "![](rotation2.PNG)"
   ]
  },
  {
   "cell_type": "markdown",
   "metadata": {},
   "source": [
    "![](rotation.png)"
   ]
  },
  {
   "cell_type": "code",
   "execution_count": 3,
   "metadata": {},
   "outputs": [
    {
     "name": "stdout",
     "output_type": "stream",
     "text": [
      "la matrice du plan miroir est donnée par\n",
      "[[ 1.  0.  0.]\n",
      " [ 1. -1.  0.]\n",
      " [ 0.  0.  1.]]\n",
      "on va déplacer un atome de Cuivre de (1,0,0) vers (1,1,0)\n",
      "on effectue une coupe pour obtenir le plan ab pour obtenir l image a est rouge (haut-gauche) et b est vert(bas-droite)\n"
     ]
    }
   ],
   "source": [
    "print('la matrice du plan miroir est donnée par')\n",
    "print(m2)\n",
    "print('on va déplacer un atome de Cuivre de (1,0,0) vers (1,1,0)')\n",
    "print('on effectue une coupe pour obtenir le plan ab pour obtenir l image a est rouge (haut-gauche) et b est vert(bas-droite)')"
   ]
  },
  {
   "cell_type": "markdown",
   "metadata": {},
   "source": [
    "![](miroir2.PNG)"
   ]
  },
  {
   "cell_type": "markdown",
   "metadata": {},
   "source": [
    "![](miroir.png)"
   ]
  },
  {
   "cell_type": "code",
   "execution_count": 7,
   "metadata": {
    "scrolled": false
   },
   "outputs": [
    {
     "name": "stdout",
     "output_type": "stream",
     "text": [
      "la matrice de translation est donnée par\n",
      "[[1. 0. 0.]\n",
      " [0. 1. 0.]\n",
      " [0. 0. 1.]]\n",
      "on va déplacer un atome d azote (0.33,0.67,0.78) vers (0.67,0.33,0.45)\n"
     ]
    }
   ],
   "source": [
    "print('la matrice de translation est donnée par')\n",
    "print(t2)\n",
    "print('on va déplacer un atome d azote (0.33,0.67,0.78) vers (0.67,0.33,0.45)')"
   ]
  },
  {
   "cell_type": "markdown",
   "metadata": {},
   "source": [
    "![](translation2.PNG)"
   ]
  },
  {
   "cell_type": "markdown",
   "metadata": {},
   "source": [
    "![](translation.png)"
   ]
  },
  {
   "cell_type": "markdown",
   "metadata": {},
   "source": [
    "![]('')"
   ]
  }
 ],
 "metadata": {
  "kernelspec": {
   "display_name": "Python 3",
   "language": "python",
   "name": "python3"
  },
  "language_info": {
   "codemirror_mode": {
    "name": "ipython",
    "version": 3
   },
   "file_extension": ".py",
   "mimetype": "text/x-python",
   "name": "python",
   "nbconvert_exporter": "python",
   "pygments_lexer": "ipython3",
   "version": "3.6.8"
  }
 },
 "nbformat": 4,
 "nbformat_minor": 2
}
